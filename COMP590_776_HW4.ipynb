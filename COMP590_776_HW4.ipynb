{
  "cells": [
    {
      "cell_type": "markdown",
      "metadata": {
        "id": "view-in-github",
        "colab_type": "text"
      },
      "source": [
        "<a href=\"https://colab.research.google.com/github/kzheng18/Comp-590-776-Assignment4-Deep-Learning/blob/main/COMP590_776_HW4.ipynb\" target=\"_parent\"><img src=\"https://colab.research.google.com/assets/colab-badge.svg\" alt=\"Open In Colab\"/></a>"
      ]
    },
    {
      "cell_type": "markdown",
      "metadata": {
        "id": "goBi9I04IPLY"
      },
      "source": [
        "# Homework 4. Deep learning\n",
        "\n",
        "In this homework you will play with convolutional neural networks for image classification in PyTorch: write pieces of code for training/testing routine, train a simple baseline network, design your own architecture and pick parameters to beat the baseline, fine-tune a pre-trained deep neural net, and create a simple region proposal net.\n",
        "\n",
        "The homework is graded out of 50 points:\n",
        "1. (5 points) implement testing loop and measure accuracy;\n",
        "2. (15 points) design your architecture and beat the baseline accuracy on the CIFAR-10 dataset (better accuracy -> more points);\n",
        "3. (5 points) fine-tune ResNet-50 on the Dogs-vs-Cats dataset;\n",
        "4. (5 points) use your model to create a simple region proposal net;\n",
        "5. (20 points) write a report: answer the Questions 1-8 from the problem statement in your report, and discuss your results for TODO 1-4.\n",
        "\n",
        "\n",
        "### Submission format:\n",
        "\n",
        "1. Notebook with your work (shared link or `.ipynb`)\n",
        "2. PDF report (attach just your answers to Questions 1-8 and a discussion of TODO 1-4, separately from the notebook code).\n",
        "\n",
        "You can save a copy of this notebook in Colab and just submit the link, or download the `.ipynb` notebook and submit that way. Please make sure that your link is properly shared (it's best to pick \"**everyone with the link can comment**\"), or make sure that your `.ipynb` has all your outputs (there is an option to download just the code/text-only lightweight version).\n",
        "\n",
        "Before you submit, make sure your notebook runs from start to end through **\"Runtime -> Restart and Run all\"**. If it doesn't, this likely means you executed cells out-of-order, or created variables with inconsistent names (e.g. one of the cells was using an output of a temporary variable from a cell that you deleted). Your results can also differ if you execute the training loop several times without resetting the network (making more epochs, which may result in a better result, but may also lead to overfitting)."
      ]
    },
    {
      "cell_type": "markdown",
      "metadata": {
        "id": "EmZ9CfUHTzB1"
      },
      "source": [
        "# Notes on using Google Colab\n",
        "\n",
        "**Important: make sure your work is saved to your Google Drive or Github before starting**\n",
        "\n",
        "`File --> Save a copy...`. See the [docs](https://www.tutorialspoint.com/google_colab/google_colab_saving_work.htm).\n",
        "\n",
        "In the top right corner you can see the available resources (RAM, Disk, etc.). Click on that button to expand the tab. By default you may get a CPU-only machine allocated. You can request an instance with a GPU through `Runtime -> Change runtime type` in the file menu bar. Public GPUs may not always be available. CPU is also sufficient for this homework, as you don't need to train the models from scratch on large datasets."
      ]
    },
    {
      "cell_type": "code",
      "execution_count": null,
      "metadata": {
        "id": "2w1UJhN3IksQ"
      },
      "outputs": [],
      "source": [
        "# Import required packages\n",
        "import os\n",
        "import zipfile\n",
        "import matplotlib.pyplot as plt\n",
        "import numpy as np\n",
        "from PIL import Image, ImageDraw\n",
        "from tqdm import tqdm\n",
        "\n",
        "import torch\n",
        "import torch.nn as nn\n",
        "import torch.nn.functional as F\n",
        "import torch.optim as optim\n",
        "from torch.utils.data import random_split\n",
        "\n",
        "import torchvision\n",
        "import torchvision.transforms as transforms\n",
        "from torchvision.datasets import ImageFolder\n",
        "from torchvision.models import resnet50, ResNet50_Weights"
      ]
    },
    {
      "cell_type": "code",
      "execution_count": null,
      "metadata": {
        "id": "AZrvO4sIVX8q"
      },
      "outputs": [],
      "source": [
        "# We will use this function to put objects (networks, inputs, labels)\n",
        "# to GPU if one is available\n",
        "def to_device(obj):\n",
        "    if torch.cuda.is_available():\n",
        "        obj = obj.to(\"cuda\")\n",
        "    return obj"
      ]
    },
    {
      "cell_type": "markdown",
      "metadata": {
        "id": "8LiNomoQ1xRR"
      },
      "source": [
        "# 1. CIFAR-10 image classification\n",
        "\n",
        "## 1.1 CIFAR-10 data\n",
        "\n",
        "\n",
        "The [CIFAR-10 dataset](https://www.cs.toronto.edu/~kriz/cifar.html) is a well-known image classification dataset that contains 60,000 32x32 color images in 10 classes, with 6,000 images per class. The goal of image classification is to correctly classify each image into its corresponding class label.\n",
        "\n",
        "Achieving high accuracy on CIFAR-10 can be challenging, as the images are relatively small and contain many details, making it difficult to distinguish between some of the classes.\n",
        "\n",
        "We will create a simple convolutional neural network and train it to achieve good baseline accuracy.\n",
        "\n",
        "But first, let's look at some of the CIFAR-10 data samples. It's always beneficial to understand your data before attempting to solve the problem!"
      ]
    },
    {
      "cell_type": "markdown",
      "metadata": {
        "id": "wFWS7jIsIg04"
      },
      "source": [
        "Luckily, PyTorch's `torchvision` package has a native CIFAR-10 dataset implementation, so creating the dataset can be as simple as `data = torchvision.datasets.CIFAR10(root='./data', download=True)`. However, we will need a couple more things to make it handy for network training.\n",
        "\n",
        "First, define a preprocessing function that is used to transform the images in the dataset. In this case, the `ToTensor` transform is used to convert the images to PyTorch tensors, and the `Normalize` transform is used to normalize the tensor values to some range to facilitate the network convergence.\n",
        "\n",
        "Second, remember to use different datasets for training and testing. `CIFAR10` handles that through the `train` flag already, but normally you would split the dataset into two parts to test on unseen images.\n",
        "\n",
        "\n",
        "Finally, create data loaders that iterate over the train and test sets. The `batch_size` and `shuffle` arguments specify the iteration batch size and whether the data should be shuffled between epochs, and the `num_workers` argument specifies the number of subprocesses to use for data loading.\n",
        "\n",
        "## Question 1. Why is it important to use different datasets for training and testing?"
      ]
    },
    {
      "cell_type": "code",
      "execution_count": null,
      "metadata": {
        "id": "abIeOmOGIF-W",
        "colab": {
          "base_uri": "https://localhost:8080/"
        },
        "outputId": "0dfa0610-1c2b-4e4e-eda9-5a20a9a49853"
      },
      "outputs": [
        {
          "output_type": "stream",
          "name": "stdout",
          "text": [
            "Downloading https://www.cs.toronto.edu/~kriz/cifar-10-python.tar.gz to ./data/cifar-10-python.tar.gz\n"
          ]
        },
        {
          "output_type": "stream",
          "name": "stderr",
          "text": [
            "100%|██████████| 170498071/170498071 [00:02<00:00, 66835038.34it/s]\n"
          ]
        },
        {
          "output_type": "stream",
          "name": "stdout",
          "text": [
            "Extracting ./data/cifar-10-python.tar.gz to ./data\n",
            "Files already downloaded and verified\n"
          ]
        }
      ],
      "source": [
        "preprocess = transforms.Compose(\n",
        "    [transforms.ToTensor(), # convert the data to PyTorch tensors\n",
        "     transforms.Normalize((0.5, 0.5, 0.5), (0.5, 0.5, 0.5))]) # normalize the data\n",
        "\n",
        "cifar_train = torchvision.datasets.CIFAR10(\n",
        "    root='./data', train=True, download=True, transform=preprocess)\n",
        "cifar_test = torchvision.datasets.CIFAR10(\n",
        "    root='./data', train=False, download=True, transform=preprocess)\n",
        "\n",
        "batch_size = 32 # number of samples processed before the model is updated\n",
        "cifar_train_loader = torch.utils.data.DataLoader(\n",
        "    cifar_train, batch_size=batch_size, shuffle=True, num_workers=2)\n",
        "cifar_test_loader = torch.utils.data.DataLoader(\n",
        "    cifar_test, batch_size=batch_size, shuffle=False, num_workers=2)"
      ]
    },
    {
      "cell_type": "markdown",
      "metadata": {
        "id": "KfHDv9Um6rqq"
      },
      "source": [
        "In order to show the images in the batch, we now need to un-normalize them since the original images were normalized during the dataset loading process. Let's plot the first few images from the batch and print their labels."
      ]
    },
    {
      "cell_type": "code",
      "execution_count": null,
      "metadata": {
        "colab": {
          "base_uri": "https://localhost:8080/",
          "height": 211
        },
        "id": "p6uSlhZ5If2k",
        "outputId": "87ffa521-b7c0-4efe-b855-52cbd9514349"
      },
      "outputs": [
        {
          "output_type": "stream",
          "name": "stdout",
          "text": [
            "truck  ship horse  frog\n"
          ]
        },
        {
          "output_type": "display_data",
          "data": {
            "text/plain": [
              "<Figure size 640x480 with 1 Axes>"
            ],
            "image/png": "[encoded data removed]"
          },
          "metadata": {}
        }
      ],
      "source": [
        "def show_images(img, mean, std):\n",
        "    # Un-normalize the image and plot it\n",
        "    mean = torch.tensor(mean, device=img.device)\n",
        "    std = torch.tensor(std, device=img.device)\n",
        "    img = img.permute(1, 2, 0)\n",
        "    img = img * std + mean\n",
        "    plt.imshow(img.numpy())\n",
        "\n",
        "\n",
        "# fetch a batch from the train dataset\n",
        "dataiter = iter(cifar_train_loader)\n",
        "images, labels = next(dataiter)\n",
        "nimages = min(batch_size, 4)\n",
        "norm = preprocess.transforms[-1]\n",
        "show_images(torchvision.utils.make_grid(images[:nimages]), norm.mean, norm.std)\n",
        "# print labels\n",
        "print(' '.join('%5s' % cifar_train.classes[labels[j]] for j in range(nimages)))"
      ]
    },
    {
      "cell_type": "markdown",
      "metadata": {
        "id": "uRlkMTyz7Zbu"
      },
      "source": [
        "## 1.2 Baseline network\n",
        "\n",
        "The SimpleNet class below inherits from the nn.Module class, which is a base class for all neural network modules in PyTorch. The __init__ method initializes the various layers of the neural network, while the forward method defines the forward pass through the network. Notice that you don't have to implement the backward pass when using superpositions of standard functions and layers, since the corresponding backward pass is already implemented for these standard operations, and the backward pass for your full model is simply derived from those using the chain rule.\n",
        "\n",
        "Our network consists of two convolutional layers (conv1 and conv2) followed by two fully connected layers (fc1 and fc2), and a final output layer (fc3) with 10 output units (one for each class in the CIFAR-10 dataset). It also has a 2x down-sampling `pool` layer (applied after both conv1 and conv2), and ReLU nonlinearities between the layers.\n",
        "\n",
        "The input to the network is a batch of 32x32 color images (3 channels for RGB) and the output is a tensor of shape (batch_size, 10) representing the predicted class scores for each input image in the batch.\n",
        "\n",
        "## Question 2. Given that the input size is 32x32, and `conv1` layer is a convolution with a 5x5 kernel, what is the output size of the `conv1` layer?\n",
        "\n",
        "## Question 3. Why does `fc1` have 16 * 5 * 5 = 400 input features?"
      ]
    },
    {
      "cell_type": "code",
      "execution_count": null,
      "metadata": {
        "id": "nTOeB6B1IgIB"
      },
      "outputs": [],
      "source": [
        "class SimpleNet(nn.Module):\n",
        "    def __init__(self, input_size=32, num_classes=10):\n",
        "        # define the layers of the network\n",
        "        super(SimpleNet, self).__init__()\n",
        "        # 3 input channels: RGB\n",
        "        self.conv1 = nn.Conv2d(in_channels=3, out_channels=6, kernel_size=5)\n",
        "        self.pool = nn.MaxPool2d(kernel_size=2, stride=2)\n",
        "        self.conv2 = nn.Conv2d(in_channels=6, out_channels=16, kernel_size=5)\n",
        "        self.fc1 = nn.Linear(in_features=16 * 5 * 5, out_features=120)\n",
        "        self.fc2 = nn.Linear(in_features=120, out_features=84)\n",
        "        # num_classes output channels\n",
        "        self.fc3 = nn.Linear(in_features=84, out_features=num_classes)\n",
        "\n",
        "    def forward(self, x):\n",
        "        # Remember to use nonlinearities after hidden linear layers (conv, fc)\n",
        "        # Convolutional layers\n",
        "        x = self.pool(F.relu(self.conv1(x)))\n",
        "        x = self.pool(F.relu(self.conv2(x)))\n",
        "        # Reshape as a vector\n",
        "        x = x.view(-1, self.fc1.in_features)\n",
        "        # Fully connected (fc) layers\n",
        "        x = F.relu(self.fc1(x))\n",
        "        x = F.relu(self.fc2(x))\n",
        "        # Note that the output layer does not need a nonlinearity.\n",
        "        # as it models log-probability\n",
        "        x = self.fc3(x)\n",
        "        return x\n",
        "\n",
        "\n",
        "model_simple = SimpleNet()\n",
        "model_simple = to_device(model_simple)"
      ]
    },
    {
      "cell_type": "markdown",
      "metadata": {
        "id": "SkXbElno9eBn"
      },
      "source": [
        "## 1.3 Training and testing the network\n",
        "\n",
        "In order to train the network, we are still missing a couple things:\n",
        "1. A loss criterion: for most classification problems, cross-entropy is used to define loss. Luckily, we know ground truth labels for our training dataset, and our network already models log-probability output with its final fully connected layer.\n",
        "\n",
        "2. An optimizer: we will use SGD with momentum as our base optimizer. You will have to tune its parameters later, and feel free to explore other optimizers available in the `optim` package!\n",
        "\n",
        "## Question 4. As discussed in the lectures, cross-entropy is just a negative log-likelihood for the label data distribution. For M-class classification (M=10 for CIFAR-10), `label` is a random variable that takes one of M values: $target \\in {1, \\dots, M}$. What class of distributions does `label` belong to then (e.g. Gaussian, Binomial, etc.)? What are the parameters of the distribution in terms of the notations used in our formula below?\n",
        "\n",
        "$$L = -\\sum\\limits_{j=1}^M [target = j]\\log(p_j) = -\\log(p_{target})$$\n",
        "\n",
        "The training code runs over the dataset `nepoch` number of times (epochs).\n",
        "\n",
        "## TODO #1: implement the testing loop\n",
        "\n",
        "While training code is provided below, you have to implement the testing routine. It's very similar to training, even simpler, as there is no need to make a call into the optimization step! You also have to loop through the data and get network outputs. Instead of computing the loss, let's measure the accuracy of the predictions:\n",
        "$$\\text{accuracy} = \\dfrac{\\text{number_of_correct_predictions}}{\\text{total_samples}} * 100 \\%$$\n",
        "\n",
        "Use `torch.max()` to get the most likely label for every image from its per-class scores."
      ]
    },
    {
      "cell_type": "code",
      "execution_count": null,
      "metadata": {
        "id": "UXD8IYwWTMmK"
      },
      "outputs": [],
      "source": [
        "def test(model, loader):\n",
        "    # Testing loop\n",
        "    # Make sure to set the network to the testing mode\n",
        "    # torch.no_grad() makes sure extra resources are not\n",
        "    # allocated during the network run as backward pass is not needed\n",
        "    model.eval()\n",
        "    with torch.no_grad():\n",
        "\n",
        "        ###################################################\n",
        "        # TODO: write your code here\n",
        "        # Return the accuracy\n",
        "        # Hint: look at the training code below for reference!\n",
        "        ###################################################\n",
        "\n",
        "        assert False, \"Implement the testing loop! Remove this assert statement.\"\n",
        "        accuracy = 0.0\n",
        "    return accuracy\n",
        "\n",
        "\n",
        "def train_and_test(model, nepochs,\n",
        "                   train_loader, test_loader,\n",
        "                   optimizer=optim.SGD,\n",
        "                   optimizer_params=None):\n",
        "\n",
        "    criterion = nn.CrossEntropyLoss()\n",
        "    optimizer = optimizer(model.parameters(), **optimizer_params)\n",
        "\n",
        "    for epoch in range(nepochs):\n",
        "        print(\"Epoch {}/{}\".format(epoch + 1, nepochs))\n",
        "\n",
        "        # Training loop\n",
        "        # Some networks have different behavior for training and testing,\n",
        "        # for example when BatchNorm or Dropout is used.\n",
        "        # Make sure to set the network to the training mode.\n",
        "        model.train()\n",
        "        for inputs, labels in tqdm(train_loader):\n",
        "            inputs = to_device(inputs)\n",
        "            labels = to_device(labels)\n",
        "\n",
        "            # Zero out the gradients before every iteration!\n",
        "            optimizer.zero_grad()\n",
        "\n",
        "            # forward + backward + optimizer step\n",
        "            outputs = model(inputs)\n",
        "            loss = criterion(outputs, labels)\n",
        "            loss.backward()\n",
        "            optimizer.step()\n",
        "\n",
        "        accuracy = test(model, test_loader)\n",
        "        print('Epoch {}, Test Accuracy: {:.2f}%'.format(epoch+1, accuracy))"
      ]
    },
    {
      "cell_type": "code",
      "execution_count": null,
      "metadata": {
        "id": "tU5uERZHBslG",
        "colab": {
          "base_uri": "https://localhost:8080/",
          "height": 427
        },
        "outputId": "7951f6b5-2f1b-41e9-d175-452b7fa62dfc"
      },
      "outputs": [
        {
          "output_type": "stream",
          "name": "stdout",
          "text": [
            "Epoch 1/2\n"
          ]
        },
        {
          "output_type": "stream",
          "name": "stderr",
          "text": [
            "100%|██████████| 1563/1563 [00:26<00:00, 58.47it/s]\n"
          ]
        },
        {
          "output_type": "error",
          "ename": "AssertionError",
          "evalue": "ignored",
          "traceback": [
            "\u001b[0;31m---------------------------------------------------------------------------\u001b[0m",
            "\u001b[0;31mAssertionError\u001b[0m                            Traceback (most recent call last)",
            "\u001b[0;32m<ipython-input-7-41bceb8a5651>\u001b[0m in \u001b[0;36m<cell line: 5>\u001b[0;34m()\u001b[0m\n\u001b[1;32m      3\u001b[0m     \u001b[0;34m\"momentum\"\u001b[0m\u001b[0;34m:\u001b[0m \u001b[0;36m0.9\u001b[0m\u001b[0;34m,\u001b[0m\u001b[0;34m\u001b[0m\u001b[0;34m\u001b[0m\u001b[0m\n\u001b[1;32m      4\u001b[0m }\n\u001b[0;32m----> 5\u001b[0;31m train_and_test(model_simple, 2, cifar_train_loader, cifar_test_loader,\n\u001b[0m\u001b[1;32m      6\u001b[0m                optimizer_params=optimizer_params_default)\n",
            "\u001b[0;32m<ipython-input-6-516f3e26256e>\u001b[0m in \u001b[0;36mtrain_and_test\u001b[0;34m(model, nepochs, train_loader, test_loader, optimizer, optimizer_params)\u001b[0m\n\u001b[1;32m     47\u001b[0m             \u001b[0moptimizer\u001b[0m\u001b[0;34m.\u001b[0m\u001b[0mstep\u001b[0m\u001b[0;34m(\u001b[0m\u001b[0;34m)\u001b[0m\u001b[0;34m\u001b[0m\u001b[0;34m\u001b[0m\u001b[0m\n\u001b[1;32m     48\u001b[0m \u001b[0;34m\u001b[0m\u001b[0m\n\u001b[0;32m---> 49\u001b[0;31m         \u001b[0maccuracy\u001b[0m \u001b[0;34m=\u001b[0m \u001b[0mtest\u001b[0m\u001b[0;34m(\u001b[0m\u001b[0mmodel\u001b[0m\u001b[0;34m,\u001b[0m \u001b[0mtest_loader\u001b[0m\u001b[0;34m)\u001b[0m\u001b[0;34m\u001b[0m\u001b[0;34m\u001b[0m\u001b[0m\n\u001b[0m\u001b[1;32m     50\u001b[0m         \u001b[0mprint\u001b[0m\u001b[0;34m(\u001b[0m\u001b[0;34m'Epoch {}, Test Accuracy: {:.2f}%'\u001b[0m\u001b[0;34m.\u001b[0m\u001b[0mformat\u001b[0m\u001b[0;34m(\u001b[0m\u001b[0mepoch\u001b[0m\u001b[0;34m+\u001b[0m\u001b[0;36m1\u001b[0m\u001b[0;34m,\u001b[0m \u001b[0maccuracy\u001b[0m\u001b[0;34m)\u001b[0m\u001b[0;34m)\u001b[0m\u001b[0;34m\u001b[0m\u001b[0;34m\u001b[0m\u001b[0m\n",
            "\u001b[0;32m<ipython-input-6-516f3e26256e>\u001b[0m in \u001b[0;36mtest\u001b[0;34m(model, loader)\u001b[0m\n\u001b[1;32m     13\u001b[0m         \u001b[0;31m###################################################\u001b[0m\u001b[0;34m\u001b[0m\u001b[0;34m\u001b[0m\u001b[0m\n\u001b[1;32m     14\u001b[0m \u001b[0;34m\u001b[0m\u001b[0m\n\u001b[0;32m---> 15\u001b[0;31m         \u001b[0;32massert\u001b[0m \u001b[0;32mFalse\u001b[0m\u001b[0;34m,\u001b[0m \u001b[0;34m\"Implement the testing loop! Remove this assert statement.\"\u001b[0m\u001b[0;34m\u001b[0m\u001b[0;34m\u001b[0m\u001b[0m\n\u001b[0m\u001b[1;32m     16\u001b[0m         \u001b[0maccuracy\u001b[0m \u001b[0;34m=\u001b[0m \u001b[0;36m0.0\u001b[0m\u001b[0;34m\u001b[0m\u001b[0;34m\u001b[0m\u001b[0m\n\u001b[1;32m     17\u001b[0m     \u001b[0;32mreturn\u001b[0m \u001b[0maccuracy\u001b[0m\u001b[0;34m\u001b[0m\u001b[0;34m\u001b[0m\u001b[0m\n",
            "\u001b[0;31mAssertionError\u001b[0m: Implement the testing loop! Remove this assert statement."
          ]
        }
      ],
      "source": [
        "optimizer_params_default = {\n",
        "    \"lr\": 2e-3,\n",
        "    \"momentum\": 0.9,\n",
        "}\n",
        "train_and_test(model_simple, 2, cifar_train_loader, cifar_test_loader,\n",
        "               optimizer_params=optimizer_params_default)"
      ]
    },
    {
      "cell_type": "markdown",
      "metadata": {
        "id": "V6ViwwK_EZek"
      },
      "source": [
        "## Question 5. What accuracy did you get with our simple network and the default settings? Is it good or bad? What is a \"bad\" accuracy for this problem (i.e. what accuracy level immediately hints at a presence of a bug in the code rather than at a need to design a better network)?\n",
        "\n",
        "\n",
        "Now let's look at some predictions\n"
      ]
    },
    {
      "cell_type": "code",
      "execution_count": null,
      "metadata": {
        "id": "ySgzcualTMq5"
      },
      "outputs": [],
      "source": [
        "dataiter = iter(cifar_test_loader)\n",
        "images, labels = next(dataiter)\n",
        "\n",
        "# print images\n",
        "nimages = min(batch_size, 8)\n",
        "norm = cifar_test.transform.transforms[-1]\n",
        "show_images(torchvision.utils.make_grid(images[:nimages]), norm.mean, norm.std)\n",
        "print('GroundTruth: ', ' '.join('%5s' % cifar_test.classes[labels[j]] for j in range(nimages)))\n",
        "\n",
        "###################################################\n",
        "# TODO: write your code here\n",
        "# Print out the network predictions\n",
        "###################################################\n",
        "\n",
        "assert False, \"Print out the predicted class labels.\""
      ]
    },
    {
      "cell_type": "markdown",
      "metadata": {
        "id": "6aQR266cYojV"
      },
      "source": [
        "# 2. Design your own architecture\n",
        "\n",
        "You can start exploring the space of architectures by tuning the hyperparameters of our baseline network first. Hyperparameters are variables that are not learned from the data, but rather set before the training process begins. They affect how the model is trained and can significantly impact its performance. Those are, for example, learning rate, number of layers (depth), number of neurons per layer (width).\n",
        "\n",
        "Choosing appropriate hyperparameters is crucial for achieving good performance, and is often done through a combination of trial and error and intuition based on prior experience.\n",
        "\n",
        "\n",
        "Let's reserve a small validation set for parameter tuning out of our testing data, and test our final model on the test set, minus the validation set.\n"
      ]
    },
    {
      "cell_type": "code",
      "source": [
        "# Split the test set into val and test_minus_val (20% and 80%, respectively)\n",
        "# Use manual seed for results repeatability.\n",
        "generator = torch.Generator().manual_seed(42)\n",
        "cifar_val, cifar_test_minus_val = random_split(cifar_test, [0.2, 0.8],\n",
        "                                               generator=generator)\n",
        "\n",
        "cifar_val_loader = torch.utils.data.DataLoader(\n",
        "    cifar_val, batch_size=batch_size, shuffle=False, num_workers=2)\n",
        "cifar_test_minus_val_loader = torch.utils.data.DataLoader(\n",
        "    cifar_test_minus_val, batch_size=batch_size, shuffle=False, num_workers=2)"
      ],
      "metadata": {
        "id": "iUxOTwzoc4eY"
      },
      "execution_count": null,
      "outputs": []
    },
    {
      "cell_type": "markdown",
      "source": [
        "\n",
        "## Question 6. Why is it important to have a validation set for parameter tuning?\n",
        "\n",
        "Try tuning your parameters, and then modify the architecture, adding layers, normalization techniques, etc. from Pytorch's `nn` package.\n",
        "\n",
        "## TODO #2: Implement a stronger network and achieve high accuracy on CIFAR-10"
      ],
      "metadata": {
        "id": "5S7vc0qvb1md"
      }
    },
    {
      "cell_type": "code",
      "execution_count": null,
      "metadata": {
        "id": "7VYcAB2PIo93"
      },
      "outputs": [],
      "source": [
        "class CustomNet(nn.Module):\n",
        "    def __init__(self):\n",
        "        ###################################################\n",
        "        # TODO: write your code here\n",
        "        # Initialize network layers\n",
        "        ###################################################\n",
        "        raise NotImplementedError(\"Implement the initialization\")\n",
        "\n",
        "    def forward(self, x):\n",
        "        ###################################################\n",
        "        # TODO: write your code here\n",
        "        # Implement the forward pass\n",
        "        ###################################################\n",
        "        raise NotImplementedError(\"Implement the initialization\")\n",
        "\n",
        "model_custom = CustomNet()\n",
        "model_custom = to_device(model_custom)\n",
        "optimizer_params_custom = {}\n",
        "train_and_test(model_custom, 2, cifar_train_loader, cifar_val_loader,\n",
        "               optimizer_params=optimizer_params_custom)"
      ]
    },
    {
      "cell_type": "markdown",
      "source": [
        "After you are done tuning the architecture structure and the hyperparameters, report your results with both CustomNet and SimpleNet on the `train_minus_val` split below. Discuss your resulting architecture in the report."
      ],
      "metadata": {
        "id": "HqmoAyEje61t"
      }
    },
    {
      "cell_type": "code",
      "source": [
        "accuracy_simple = test(model_simple, cifar_test_minus_val_loader)\n",
        "print('Baseline model accuracy (test_minus_val): {:.2f}%'.format(accuracy_simple))\n",
        "\n",
        "accuracy_custom = test(model_custom, cifar_test_minus_val_loader)\n",
        "print('Custom model accuracy (test_minus_val): {:.2f}%'.format(accuracy_custom))"
      ],
      "metadata": {
        "id": "wXZQX0iHfI_7"
      },
      "execution_count": null,
      "outputs": []
    },
    {
      "cell_type": "markdown",
      "metadata": {
        "id": "uXLGqBU71iC-"
      },
      "source": [
        "# 3. Dogs-vs-Cats and model tuning\n",
        "\n",
        "Let's now explore some images with higher resolution than those of 32x32 from CIFAR. One of the popular classification datasets is [\"Dogs vs Cats\"](https://www.kaggle.com/c/dogs-vs-cats/data). We will use a smaller version of the dataset here, picking 2000 images subset for training. Let's download and extract the archive to the /tmp folder."
      ]
    },
    {
      "cell_type": "code",
      "execution_count": null,
      "metadata": {
        "id": "bbxyhrwt1u6b"
      },
      "outputs": [],
      "source": [
        "# Download the dataset\n",
        "!wget --no-check-certificate \\\n",
        "    https://storage.googleapis.com/mledu-datasets/cats_and_dogs_filtered.zip \\\n",
        "    -O /tmp/cats_and_dogs_filtered.zip\n",
        "\n",
        "# Unzip it to /tmp\n",
        "local_zip = '/tmp/cats_and_dogs_filtered.zip'\n",
        "zip_ref = zipfile.ZipFile(local_zip, 'r')\n",
        "zip_ref.extractall('/tmp')\n",
        "zip_ref.close()\n",
        "\n",
        "# Create a PyTorch ImageFolder Dataset\n",
        "train_data = ImageFolder(\"/tmp/cats_and_dogs_filtered/train\")\n",
        "train_data[0][0]"
      ]
    },
    {
      "cell_type": "markdown",
      "metadata": {
        "id": "I3esN84xNlfE"
      },
      "source": [
        "Let's see how our simple (or your custom) model trained on CIFAR does on these images. For this one, mine predicted a `truck` class as a top prediction with 41.3% confidence. If yours predicted a cat: great! But how does it do on other images? Try a few more changing the `sample_idx` below.\n",
        "\n",
        "## Question 7. What is/are the main reason(s) for our SimpleNet and CustomNet to not work so well in this case, given that CIFAR-10 has both `dog` and `cat` labels?"
      ]
    },
    {
      "cell_type": "code",
      "execution_count": null,
      "metadata": {
        "id": "H9kX2ePwL73T"
      },
      "outputs": [],
      "source": [
        "def get_prediction(img, model, preprocess=None, class_names=None):\n",
        "    batch = preprocess(img) if preprocess is not None else img\n",
        "    batch = batch.unsqueeze(0)\n",
        "    batch = to_device(batch)\n",
        "    prediction = model(batch).squeeze(0).softmax(0)\n",
        "    class_id = prediction.argmax().item()\n",
        "    score = prediction[class_id].item()\n",
        "    category_name = class_names[class_id] if class_names is not None else class_id\n",
        "    return category_name, score\n",
        "\n",
        "sample_idx = 0\n",
        "img = train_data[sample_idx][0]\n",
        "img = img.resize((32, 32))\n",
        "category_name, score = get_prediction(\n",
        "    img, model_simple, cifar_train.transforms.transform, cifar_train.classes)\n",
        "print(f\"{category_name}: {100 * score:.1f}%\")\n",
        "img"
      ]
    },
    {
      "cell_type": "markdown",
      "metadata": {
        "id": "21PSusBg366_"
      },
      "source": [
        "## Fine tuning\n",
        "\n",
        "Fine-tuning is the process of taking a strong pre-trained model and adapting it to a new dataset by training it further. Our pre-trained model is a 50-layer ResNet architecture, trained on the large ImageNet dataset to distinguish between 1000 classes.\n",
        "\n",
        "Fine-tuning involves freezing the weights of the lower layers in the pre-trained model, which are responsible for low-level features such as edges and textures, and training the upper layers on the new dataset. The weights in the upper layers are initialized randomly and then updated through backpropagation during training.\n",
        "\n",
        "We want to leverage the features of the ResNet and consider an extreme case, when all the layers are frozen, except for the last linear (fully connected) layer."
      ]
    },
    {
      "cell_type": "code",
      "execution_count": null,
      "metadata": {
        "id": "vvn6UJeP36Sq"
      },
      "outputs": [],
      "source": [
        "# Imagenet accuracy: 80.858%\n",
        "weights=ResNet50_Weights.DEFAULT\n",
        "model_resnet = resnet50(weights=weights)\n",
        "model_resnet = to_device(model_resnet)"
      ]
    },
    {
      "cell_type": "markdown",
      "metadata": {
        "id": "PnEz-TQLRCtw"
      },
      "source": [
        "ImageNet doesn't have a simple `cat` class: it rather has several classes such as `Egyptian cat`, `tabby cat`, etc. Assigning a cat to a wrong breed is considered the same as assigning a completely unrelated label. For example `sample_idx=3` is assigned to a `lynx` label (reasonable?), while `sample_idx=40` is assigned a `chihuahua` label as cats don't fall under the ImageNet specific breeds."
      ]
    },
    {
      "cell_type": "code",
      "execution_count": null,
      "metadata": {
        "id": "o3nubH2Jmur7"
      },
      "outputs": [],
      "source": [
        "sample_idx = 3\n",
        "img = train_data[sample_idx][0]\n",
        "category_name, score = get_prediction(img, model_resnet, weights.transforms(),\n",
        "                                      weights.meta[\"categories\"])\n",
        "print(f\"{category_name}: {100 * score:.1f}%\")\n",
        "img"
      ]
    },
    {
      "cell_type": "markdown",
      "metadata": {
        "id": "UH1JYyD7TVhp"
      },
      "source": [
        "## TODO #3: Fine-tune the ResNet\n",
        "\n",
        "Let's fine-tune the pre-trained ResNet. This involves the following steps:\n",
        "1. freeze the pretrained layers;\n",
        "2. modify the output to match the Dogs-vs-Cats class: you can simply change the `model_resnet.fc` output layer: there's no need to write new classes (e.g. if you wanted the last layer to be a convolution, you could re-define it as `model_resnet.fc = nn.Conv2D(3, 4, 5)`);\n",
        "3. run `train_and_test` with appropriate arguments.\n",
        "\n",
        "Can you achieve high accuracy now? Discuss your ResNet results (can be a part of your answer to Question 7)."
      ]
    },
    {
      "cell_type": "code",
      "execution_count": null,
      "metadata": {
        "id": "a31YSFcULnBh"
      },
      "outputs": [],
      "source": [
        "# Dogs-vs-Cats train and test sets\n",
        "train_transforms = transforms.Compose([\n",
        "    transforms.RandomResizedCrop(224),\n",
        "    transforms.RandomHorizontalFlip(),\n",
        "    transforms.ToTensor(),\n",
        "    transforms.Normalize([0.485, 0.456, 0.406], [0.229, 0.224, 0.225])\n",
        "])\n",
        "\n",
        "test_transforms = transforms.Compose([\n",
        "    transforms.Resize(256),\n",
        "    transforms.CenterCrop(224),\n",
        "    transforms.ToTensor(),\n",
        "    transforms.Normalize([0.485, 0.456, 0.406], [0.229, 0.224, 0.225])\n",
        "])\n",
        "catsdogs_train = ImageFolder(\"/tmp/cats_and_dogs_filtered/train\", transform=train_transforms)\n",
        "catsdogs_test = ImageFolder(\"/tmp/cats_and_dogs_filtered/validation\", transform=test_transforms)\n",
        "\n",
        "# Freeze the parameters\n",
        "for param in model_resnet.parameters():\n",
        "    param.requires_grad = False\n",
        "\n",
        "\n",
        "###################################################\n",
        "# TODO: write your code here\n",
        "# Modify the ResNet, and fine-tune to Dogs-vs-Cats\n",
        "###################################################\n",
        "\n",
        "assert False, \"Modify the last layer of ResNet and fine-tune!\""
      ]
    },
    {
      "cell_type": "markdown",
      "metadata": {
        "id": "zkwOQydi1iNw"
      },
      "source": [
        "## 4. Beyond image classification\n",
        "\n",
        "So far we looked only at the image classification task, which seems like a very narrow (and easy?) problem. But in fact, image classification networks are used as a core (backbone) for most of the image recognition problems.\n",
        "\n",
        "Our fine-tuned network distinguishes cats from dogs, but it also gives us its prediction confidence. Let's try to use this confidence to add (some) localization capabilities to the network.\n",
        "\n",
        "Object localization, or object detection involves modifying the network architecture to output both a class label for the input image and a bounding box that specifies the location of the object in the image. We won't build a complete detector, but we will make a step towards creating a region proposal network that says how likely a selected region contains an object of interest.\n",
        "\n",
        "Imagine that you know the size of the object you are looking for. For instance, in the image below, assume you know that you look for objects that occupy about 3% of the image that fit into a square of size $K \\times K$. For the image below, that would mean that the square has a side of $K = 170$ pixels. Let's see what confidence our network has for a random patch of size $K \\times K$ and for a patch that is centered on the dog.\n",
        "\n",
        "This may sound counterintuitive from the first glance that this process has any meaning. Our network can only predict `cat` or `dog` class, and we are asking it to classify a patch of the sky or forest! However, the fact that the network doesn't see any cat or dog features in the patch will hopefully push it towards predicting the corresponding class with a lower confidence."
      ]
    },
    {
      "cell_type": "code",
      "execution_count": null,
      "metadata": {
        "id": "TUkSGfmp1mQi"
      },
      "outputs": [],
      "source": [
        "# Load a high rest image containing a dog and display it.\n",
        "!wget https://www.blossomsfield.co.uk/wp-content/uploads/2020/10/WhatsApp-Image-2020-10-06-at-12.43.20.jpeg \\\n",
        "      -O /tmp/localize.jpeg\n",
        "img = Image.open(\"/tmp/localize.jpeg\")\n",
        "width, height = img.size\n",
        "width, height = 800, int(height * 800 / width)\n",
        "img = img.resize((width, height))\n",
        "img"
      ]
    },
    {
      "cell_type": "code",
      "source": [
        "# Running our fine-tuned ResNet on a background patch.\n",
        "left = 35\n",
        "upper = 740\n",
        "size = 170\n",
        "box_random = (left, upper, left + size, upper + size)\n",
        "crop_random = img.crop(box_random)\n",
        "category_name_random, score_random = get_prediction(\n",
        "    crop_random, model_resnet, test_transforms, catsdogs_test.classes)\n",
        "print(f\"{category_name_random}: {100 * score_random:.1f}%\")\n",
        "crop_random"
      ],
      "metadata": {
        "id": "DnW4sDD6ZVMI"
      },
      "execution_count": null,
      "outputs": []
    },
    {
      "cell_type": "code",
      "source": [
        "# Running our fine-tuned ResNet on a dog patch.\n",
        "left = 290\n",
        "upper = 520\n",
        "size = 170\n",
        "box_center = (left, upper, left + size, upper + size)\n",
        "crop_center = img.crop(box_center)\n",
        "category_name_center, score_center = get_prediction(\n",
        "    crop_center, model_resnet, test_transforms, catsdogs_test.classes)\n",
        "print(f\"{category_name_center}: {100 * score_center:.1f}%\")\n",
        "crop_center"
      ],
      "metadata": {
        "id": "-qQn5l2wbdyh"
      },
      "execution_count": null,
      "outputs": []
    },
    {
      "cell_type": "markdown",
      "source": [
        "Use the function below to draw a set of patches on top of the image."
      ],
      "metadata": {
        "id": "ozPIihxfjIdV"
      }
    },
    {
      "cell_type": "code",
      "source": [
        "def draw(boxes, scores, color=(255, 0, 0)):\n",
        "    width, height = img.size\n",
        "    nboxes = len(boxes)\n",
        "    pad = 10\n",
        "    im2show = img.copy()\n",
        "    img_draw = ImageDraw.Draw(im2show)\n",
        "    for i, box in enumerate(boxes):\n",
        "        score = scores[i]\n",
        "        img_draw.rectangle(box, outline=color, width=5)\n",
        "\n",
        "    return im2show\n",
        "\n",
        "boxes = [box_center, box_random]\n",
        "names = [category_name_center, category_name_random]\n",
        "scores = [score_center, score_random]\n",
        "im2show = draw(boxes, scores, color=\"blue\")\n",
        "im2show"
      ],
      "metadata": {
        "id": "LCdrMD0QLTlA"
      },
      "execution_count": null,
      "outputs": []
    },
    {
      "cell_type": "markdown",
      "source": [
        "## TODO #4: Implement the sliding window and visualize the most and the least confident predictions\n",
        "\n",
        "Let's produce a set of candidates in a sliding window fashion. That is, place a window of size $K \\times K$ into the top left corner, and evaluate the score of the corresponding crop to contain class `dog`. Now slide this window across all possible locations with step $s$ (i.e. evaluate a crop of size $K \\times K$ with the top left corner coordinate $(0, s)$ next). Record all window positions and the corresponding scores for the `dog` class. Then sort them and plot top-20 and bottom-20 scoring ones. Pick $s$ yourself, and $K = 170$."
      ],
      "metadata": {
        "id": "RnOyOskNI4cq"
      }
    },
    {
      "cell_type": "code",
      "source": [
        "###################################################\n",
        "# TODO: write your code here\n",
        "# Implement the sliding window approach.\n",
        "###################################################\n",
        "\n"
      ],
      "metadata": {
        "id": "C2NKN6lXb2WJ"
      },
      "execution_count": null,
      "outputs": []
    },
    {
      "cell_type": "code",
      "source": [
        "# Visualize the top-20 scoring boxes\n",
        "high_scoring_img = draw(boxes[:20], scores[:20], color=\"green\")\n",
        "high_scoring_img"
      ],
      "metadata": {
        "id": "mxfh0dxoUj8D"
      },
      "execution_count": null,
      "outputs": []
    },
    {
      "cell_type": "code",
      "source": [
        "# Visualize the bottom-20 scoring boxes\n",
        "low_scoring_img = draw(boxes[-20:], scores[-20:], color=\"red\")\n",
        "low_scoring_img"
      ],
      "metadata": {
        "id": "MTUpLZyxR4W0"
      },
      "execution_count": null,
      "outputs": []
    },
    {
      "cell_type": "markdown",
      "source": [
        "Discuss your results: where did the top-20 scoring boxes land? How about the bottom-20 ones? Do any of the low scoring boxes still contain any pixels belonging to the dog? Why might that be (i.e. why a set of pixels belonging to the dog may score lower than a corner box with just the sky or just the grass)? Answer this final question as well in your report:\n",
        "\n",
        "## Question 8. What drawbacks does such an approach of creating region proposals have? What extra steps do you need to make to create a real detector?\n"
      ],
      "metadata": {
        "id": "scziJ04jmJ0k"
      }
    }
  ],
  "metadata": {
    "accelerator": "GPU",
    "colab": {
      "provenance": [],
      "include_colab_link": true
    },
    "gpuClass": "standard",
    "kernelspec": {
      "display_name": "Python 3",
      "name": "python3"
    },
    "language_info": {
      "name": "python"
    }
  },
  "nbformat": 4,
  "nbformat_minor": 0
}